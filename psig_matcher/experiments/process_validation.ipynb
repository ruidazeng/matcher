{
 "cells": [
  {
   "cell_type": "code",
   "execution_count": 74,
   "metadata": {},
   "outputs": [],
   "source": [
    "from dataclasses import dataclass\n",
    "from typing import List, Tuple\n",
    "import numpy as np\n",
    "import pandas as pd\n",
    "import os\n",
    "import glob\n",
    "import matplotlib.pyplot as plt\n",
    "from scipy.stats import norm\n",
    "import scipy.stats as st\n",
    "from statistics import NormalDist\n",
    "\n",
    "@dataclass\n",
    "class NormalDistribution:\n",
    "    mean: float\n",
    "    std: float\n",
    "    \n",
    "@dataclass\n",
    "class Part:\n",
    "    \n",
    "    type: str\n",
    "    sub_part_name: str\n",
    "    sensor: str\n",
    "    signals: List   # Signal is numpy array of (500,3) with [frequency, Z, X]"
   ]
  },
  {
   "cell_type": "code",
   "execution_count": 75,
   "metadata": {},
   "outputs": [],
   "source": [
    "\n",
    "def load_part_data(part_type: str) -> List[Part]:\n",
    "    \n",
    "    parts = []\n",
    "    for part_dir in os.listdir(f'psig_matcher/data/{part_type}'):\n",
    "        \n",
    "        sensor = part_dir[1:]\n",
    "        measurement_files = glob.glob(f'psig_matcher/data/{part_type}/{part_dir}/*.npy')\n",
    "        measurements = [np.load(f) for f in measurement_files]\n",
    "        parts.append(Part(part_type, part_dir, sensor, measurements))\n",
    "    \n",
    "    return parts\n",
    "\n",
    "con_parts = load_part_data('CON')\n",
    "#conlid_parts = load_part_data('CONLID') # Need to handle the damage files\n",
    "lid_parts = load_part_data('LID')"
   ]
  },
  {
   "cell_type": "code",
   "execution_count": 76,
   "metadata": {},
   "outputs": [],
   "source": [
    "import dataclasses\n",
    "\n",
    "\n",
    "def limit_deminsionality(parts: List[Part], frequeny_indexes: List[int]) -> List[Part]:\n",
    "    \"\"\"Use only a subset of the frequencies for the analysis. This effectivley transforms the \n",
    "    500 dimension multivariant distribution to a n-dimentional distribution where n is the\n",
    "    length of the frequency_indexes.\n",
    "    \n",
    "    Further, this assumes use of the X axis\"\"\"\n",
    "    \n",
    "    return [\n",
    "        dataclasses.replace(part, signals=[[signal[index][1] for index in frequeny_indexes] for signal in part.signals])\n",
    "        for part in parts]"
   ]
  },
  {
   "cell_type": "code",
   "execution_count": 77,
   "metadata": {},
   "outputs": [],
   "source": [
    "def estimate_normal_dist(x: List[float]) -> NormalDistribution:\n",
    "    \"\"\"Estimate the normal distribution for the given data\n",
    "    \n",
    "    TODO (henry): Expand this using https://handbook-5-1.cochrane.org/chapter_7/7_7_3_2_obtaining_standard_deviations_from_standard_errors_and.htm#:~:text=The%20standard%20deviation%20for%20each,should%20be%20replaced%20by%205.15.\n",
    "    \"\"\"\n",
    "    return NormalDistribution(np.mean(x, axis=0), np.std(x))\n",
    "\n",
    "    \n",
    "    "
   ]
  },
  {
   "cell_type": "code",
   "execution_count": 82,
   "metadata": {},
   "outputs": [],
   "source": [
    "def plot_single_distributions(pdfs: List[NormalDistribution], labels: List[str], title: str):\n",
    "    \"\"\" pdfs is a list of tuples of (mean, std) for each distribution.\"\"\"\n",
    "    \n",
    "    for pdf, label in zip(pdfs, labels):\n",
    "        \n",
    "        x = np.linspace(pdf.mean - 3* pdf.std, pdf.mean + 3* pdf.std, 100)\n",
    "        plt.plot(x, norm.pdf(x, pdf.mean, pdf.std), label=label)\n",
    "    \n",
    "    plt.legend(loc='best')\n",
    "    plt.title(title)\n",
    "    plt.show()"
   ]
  },
  {
   "cell_type": "code",
   "execution_count": 79,
   "metadata": {},
   "outputs": [],
   "source": [
    "def find_overlap(normal_d_1: NormalDistribution, normal_d_2: NormalDistribution) -> float:\n",
    "    \"\"\"Finds the overlap between two distributions.\"\"\"\n",
    "    \n",
    "    return NormalDist(mu=normal_d_1.mean, sigma=normal_d_1.std).overlap(NormalDist(mu=normal_d_2.mean, sigma=normal_d_2.std))\n"
   ]
  },
  {
   "cell_type": "code",
   "execution_count": 84,
   "metadata": {},
   "outputs": [
    {
     "data": {
      "image/png": "[encoded data removed]",
      "text/plain": [
       "<Figure size 640x480 with 1 Axes>"
      ]
     },
     "metadata": {},
     "output_type": "display_data"
    },
    {
     "name": "stdout",
     "output_type": "stream",
     "text": [
      "Bx5 vs Cx6: Ttest_indResult(statistic=array([[ 1.15470054, -2.02582944,  2.02358321],\n",
      "       [ 1.16303591, -2.1517414 ,  2.15053623],\n",
      "       [ 1.17139044, -2.27433319,  2.27385946],\n",
      "       ...,\n",
      "       [ 2.66666196, -3.21443314,  3.22967384],\n",
      "       [ 2.66666549, -3.24116726,  3.24672852],\n",
      "       [ 2.66666667, -3.28320681,  3.28097434]]), pvalue=array([[0.26516824, 0.05979335, 0.0600472 ],\n",
      "       [0.26186794, 0.04703423, 0.04714348],\n",
      "       [0.25859136, 0.03706652, 0.03710094],\n",
      "       ...,\n",
      "       [0.01688502, 0.00541103, 0.00524037],\n",
      "       [0.0168849 , 0.0051152 , 0.0050557 ],\n",
      "       [0.01688486, 0.00468201, 0.00470408]]))\n",
      "Bx5 vs Ax4: Ttest_indResult(statistic=array([[ 1.15470054, -1.28281495,  1.28439384],\n",
      "       [ 1.16303591, -1.32177174,  1.32224255],\n",
      "       [ 1.17139044, -1.33103879,  1.32765013],\n",
      "       ...,\n",
      "       [ 2.66666196, -3.54560802,  3.00640157],\n",
      "       [ 2.66666549, -3.52795665,  3.00274914],\n",
      "       [ 2.66666667, -3.54935769,  3.02669658]]), pvalue=array([[0.26516824, 0.21782943, 0.2172903 ],\n",
      "       [0.26186794, 0.20483218, 0.20467896],\n",
      "       [0.25859136, 0.20183308, 0.20292566],\n",
      "       ...,\n",
      "       [0.01688502, 0.00269137, 0.008367  ],\n",
      "       [0.0168849 , 0.00279361, 0.00843101],\n",
      "       [0.01688486, 0.00267013, 0.00801992]]))\n",
      "Cx6 vs Ax4: Ttest_indResult(statistic=array([[          nan,  183.03029907, -173.31047466],\n",
      "       [          nan,  389.81191198, -390.71716564],\n",
      "       [          nan,  282.32334568, -297.27504388],\n",
      "       ...,\n",
      "       [          nan,  -36.1182925 ,  -28.93315025],\n",
      "       [          nan,  -34.05161856,  -31.19057827],\n",
      "       [          nan,  -37.75948513,  -36.65858278]]), pvalue=array([[           nan, 8.88506868e-16, 1.37468492e-15],\n",
      "       [           nan, 2.10036543e-18, 2.06175074e-18],\n",
      "       [           nan, 2.77387427e-17, 1.83573032e-17],\n",
      "       ...,\n",
      "       [           nan, 3.78304279e-10, 2.20384380e-09],\n",
      "       [           nan, 6.04456921e-10, 1.21401931e-09],\n",
      "       [           nan, 2.65620199e-10, 3.36149485e-10]]))\n"
     ]
    },
    {
     "name": "stderr",
     "output_type": "stream",
     "text": [
      "/var/folders/vm/kv5c83xd7zng0b6jhjd95w_w0000gn/T/ipykernel_98654/183854304.py:9: RuntimeWarning: Precision loss occurred in moment calculation due to catastrophic cancellation. This occurs when the data are nearly identical. Results may be unreliable.\n",
      "  print(f\"{parts[i].sub_part_name} vs {parts[k].sub_part_name}: {st.ttest_ind(parts[i].signals, parts[k].signals)}\")\n"
     ]
    }
   ],
   "source": [
    "def perform_1d_analysis(parts: List[Part]):\n",
    "    \n",
    "    single_d_parts = limit_deminsionality(parts, [0])\n",
    "    pdfs = [estimate_normal_dist(part.signals) for part in single_d_parts]\n",
    "    plot_single_distributions(pdfs[-1:], [f\"{part.type} - {part.sub_part_name}\" for part in single_d_parts[-1:]], f'1D Analysis')\n",
    "    \n",
    "    for i in range(len(pdfs)):\n",
    "        for k in range(i+1, len(pdfs)):\n",
    "            # Currently this method redundantly counts overlaps that may have already been accounted for. \n",
    "            # If A and B overlap on the edge of B, but C also overlaps on the edge of B, we're double\n",
    "            # counting that overlap. Maybe we want to do this? \n",
    "            print(f\"{parts[i].sub_part_name} vs {parts[k].sub_part_name}: {st.ttest_ind(parts[i].signals, parts[k].signals)}\")\n",
    "    \n",
    "    \n",
    "\n",
    "#perform_1d_analysis(con_parts)\n",
    "perform_1d_analysis(lid_parts)\n"
   ]
  }
 ],
 "metadata": {
  "kernelspec": {
   "display_name": "Python 3 (ipykernel)",
   "language": "python",
   "name": "python3"
  },
  "language_info": {
   "codemirror_mode": {
    "name": "ipython",
    "version": 3
   },
   "file_extension": ".py",
   "mimetype": "text/x-python",
   "name": "python",
   "nbconvert_exporter": "python",
   "pygments_lexer": "ipython3",
   "version": "3.10.6"
  },
  "orig_nbformat": 4,
  "vscode": {
   "interpreter": {
    "hash": "25a19fbe0a9132dfb9279d48d161753c6352f8f9478c2e74383d340069b907c3"
   }
  }
 },
 "nbformat": 4,
 "nbformat_minor": 2
}
